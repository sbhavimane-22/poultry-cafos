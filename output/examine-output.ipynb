{
 "cells": [
  {
   "cell_type": "code",
   "execution_count": 1,
   "metadata": {},
   "outputs": [],
   "source": [
    "import geopandas as gpd\n",
    "import folium"
   ]
  },
  {
   "cell_type": "code",
   "execution_count": 2,
   "metadata": {},
   "outputs": [],
   "source": [
    "gdf = gpd.read_file(\"test-output.geojson\")"
   ]
  },
  {
   "cell_type": "code",
   "execution_count": 3,
   "metadata": {},
   "outputs": [
    {
     "data": {
      "text/html": [
       "<div>\n",
       "<style scoped>\n",
       "    .dataframe tbody tr th:only-of-type {\n",
       "        vertical-align: middle;\n",
       "    }\n",
       "\n",
       "    .dataframe tbody tr th {\n",
       "        vertical-align: top;\n",
       "    }\n",
       "\n",
       "    .dataframe thead th {\n",
       "        text-align: right;\n",
       "    }\n",
       "</style>\n",
       "<table border=\"1\" class=\"dataframe\">\n",
       "  <thead>\n",
       "    <tr style=\"text-align: right;\">\n",
       "      <th></th>\n",
       "      <th>p</th>\n",
       "      <th>rectangle_area</th>\n",
       "      <th>area</th>\n",
       "      <th>rectangle_aspect_ratio</th>\n",
       "      <th>distance_to_nearest_road</th>\n",
       "      <th>year</th>\n",
       "      <th>date</th>\n",
       "      <th>image_url</th>\n",
       "      <th>geometry</th>\n",
       "    </tr>\n",
       "  </thead>\n",
       "  <tbody>\n",
       "    <tr>\n",
       "      <th>0</th>\n",
       "      <td>0.001457</td>\n",
       "      <td>14.400128</td>\n",
       "      <td>9.36</td>\n",
       "      <td>1.600008</td>\n",
       "      <td>1169.189678</td>\n",
       "      <td>2020</td>\n",
       "      <td>2020-10-18</td>\n",
       "      <td>output/m_3407628_ne_18_060_20201018_prediction...</td>\n",
       "      <td>POLYGON ((-76.52856 34.58347, -76.52856 34.583...</td>\n",
       "    </tr>\n",
       "    <tr>\n",
       "      <th>1</th>\n",
       "      <td>0.001471</td>\n",
       "      <td>2.159996</td>\n",
       "      <td>2.16</td>\n",
       "      <td>6.000203</td>\n",
       "      <td>1617.332252</td>\n",
       "      <td>2020</td>\n",
       "      <td>2020-10-18</td>\n",
       "      <td>output/m_3407628_ne_18_060_20201018_prediction...</td>\n",
       "      <td>POLYGON ((-76.52705 34.57957, -76.52705 34.579...</td>\n",
       "    </tr>\n",
       "    <tr>\n",
       "      <th>2</th>\n",
       "      <td>0.000980</td>\n",
       "      <td>0.719993</td>\n",
       "      <td>0.72</td>\n",
       "      <td>2.000142</td>\n",
       "      <td>1703.045207</td>\n",
       "      <td>2020</td>\n",
       "      <td>2020-10-18</td>\n",
       "      <td>output/m_3407628_ne_18_060_20201018_prediction...</td>\n",
       "      <td>POLYGON ((-76.52649 34.57894, -76.52649 34.578...</td>\n",
       "    </tr>\n",
       "    <tr>\n",
       "      <th>3</th>\n",
       "      <td>0.002165</td>\n",
       "      <td>66.239465</td>\n",
       "      <td>38.16</td>\n",
       "      <td>2.875027</td>\n",
       "      <td>1698.262508</td>\n",
       "      <td>2020</td>\n",
       "      <td>2020-10-18</td>\n",
       "      <td>output/m_3407628_ne_18_060_20201018_prediction...</td>\n",
       "      <td>POLYGON ((-76.52657 34.57883, -76.52657 34.578...</td>\n",
       "    </tr>\n",
       "    <tr>\n",
       "      <th>4</th>\n",
       "      <td>0.000871</td>\n",
       "      <td>0.720007</td>\n",
       "      <td>0.72</td>\n",
       "      <td>2.000224</td>\n",
       "      <td>2105.120292</td>\n",
       "      <td>2020</td>\n",
       "      <td>2020-10-18</td>\n",
       "      <td>output/m_3407628_ne_18_060_20201018_prediction...</td>\n",
       "      <td>POLYGON ((-76.52729 34.57472, -76.52729 34.574...</td>\n",
       "    </tr>\n",
       "  </tbody>\n",
       "</table>\n",
       "</div>"
      ],
      "text/plain": [
       "          p  rectangle_area   area  rectangle_aspect_ratio  \\\n",
       "0  0.001457       14.400128   9.36                1.600008   \n",
       "1  0.001471        2.159996   2.16                6.000203   \n",
       "2  0.000980        0.719993   0.72                2.000142   \n",
       "3  0.002165       66.239465  38.16                2.875027   \n",
       "4  0.000871        0.720007   0.72                2.000224   \n",
       "\n",
       "   distance_to_nearest_road  year        date  \\\n",
       "0               1169.189678  2020  2020-10-18   \n",
       "1               1617.332252  2020  2020-10-18   \n",
       "2               1703.045207  2020  2020-10-18   \n",
       "3               1698.262508  2020  2020-10-18   \n",
       "4               2105.120292  2020  2020-10-18   \n",
       "\n",
       "                                           image_url  \\\n",
       "0  output/m_3407628_ne_18_060_20201018_prediction...   \n",
       "1  output/m_3407628_ne_18_060_20201018_prediction...   \n",
       "2  output/m_3407628_ne_18_060_20201018_prediction...   \n",
       "3  output/m_3407628_ne_18_060_20201018_prediction...   \n",
       "4  output/m_3407628_ne_18_060_20201018_prediction...   \n",
       "\n",
       "                                            geometry  \n",
       "0  POLYGON ((-76.52856 34.58347, -76.52856 34.583...  \n",
       "1  POLYGON ((-76.52705 34.57957, -76.52705 34.579...  \n",
       "2  POLYGON ((-76.52649 34.57894, -76.52649 34.578...  \n",
       "3  POLYGON ((-76.52657 34.57883, -76.52657 34.578...  \n",
       "4  POLYGON ((-76.52729 34.57472, -76.52729 34.574...  "
      ]
     },
     "execution_count": 3,
     "metadata": {},
     "output_type": "execute_result"
    }
   ],
   "source": [
    "gdf.head()"
   ]
  },
  {
   "cell_type": "code",
   "execution_count": 25,
   "metadata": {},
   "outputs": [],
   "source": [
    "m = folium.Map(location=[34.583440558743305, -76.528557434285759], zoom_start=12)"
   ]
  },
  {
   "cell_type": "code",
   "execution_count": 26,
   "metadata": {},
   "outputs": [
    {
     "data": {
      "text/plain": [
       "<folium.features.GeoJson at 0x7f4bac54a140>"
      ]
     },
     "execution_count": 26,
     "metadata": {},
     "output_type": "execute_result"
    }
   ],
   "source": [
    "folium.GeoJson(gdf).add_to(m)\n"
   ]
  },
  {
   "cell_type": "code",
   "execution_count": 27,
   "metadata": {},
   "outputs": [
    {
     "data": {
      "text/html": [
       "<div style=\"width:100%;\"><div style=\"position:relative;width:100%;height:0;padding-bottom:60%;\"><span style=\"color:#565656\">Make this Notebook Trusted to load map: File -> Trust Notebook</span><iframe srcdoc=\"&lt;!DOCTYPE html&gt;\n",
       "&lt;html&gt;\n",
       "&lt;head&gt;\n",
       "    \n",
       "    &lt;meta http-equiv=&quot;content-type&quot; content=&quot;text/html; charset=UTF-8&quot; /&gt;\n",
       "    \n",
       "        &lt;script&gt;\n",
       "            L_NO_TOUCH = false;\n",
       "            L_DISABLE_3D = false;\n",
       "        &lt;/script&gt;\n",
       "    \n",
       "    &lt;style&gt;html, body {width: 100%;height: 100%;margin: 0;padding: 0;}&lt;/style&gt;\n",
       "    &lt;style&gt;#map {position:absolute;top:0;bottom:0;right:0;left:0;}&lt;/style&gt;\n",
       "    &lt;script src=&quot;https://cdn.jsdelivr.net/npm/leaflet@1.9.3/dist/leaflet.js&quot;&gt;&lt;/script&gt;\n",
       "    &lt;script src=&quot;https://code.jquery.com/jquery-1.12.4.min.js&quot;&gt;&lt;/script&gt;\n",
       "    &lt;script src=&quot;https://cdn.jsdelivr.net/npm/bootstrap@5.2.2/dist/js/bootstrap.bundle.min.js&quot;&gt;&lt;/script&gt;\n",
       "    &lt;script src=&quot;https://cdnjs.cloudflare.com/ajax/libs/Leaflet.awesome-markers/2.0.2/leaflet.awesome-markers.js&quot;&gt;&lt;/script&gt;\n",
       "    &lt;link rel=&quot;stylesheet&quot; href=&quot;https://cdn.jsdelivr.net/npm/leaflet@1.9.3/dist/leaflet.css&quot;/&gt;\n",
       "    &lt;link rel=&quot;stylesheet&quot; href=&quot;https://cdn.jsdelivr.net/npm/bootstrap@5.2.2/dist/css/bootstrap.min.css&quot;/&gt;\n",
       "    &lt;link rel=&quot;stylesheet&quot; href=&quot;https://netdna.bootstrapcdn.com/bootstrap/3.0.0/css/bootstrap.min.css&quot;/&gt;\n",
       "    &lt;link rel=&quot;stylesheet&quot; href=&quot;https://cdn.jsdelivr.net/npm/@fortawesome/fontawesome-free@6.2.0/css/all.min.css&quot;/&gt;\n",
       "    &lt;link rel=&quot;stylesheet&quot; href=&quot;https://cdnjs.cloudflare.com/ajax/libs/Leaflet.awesome-markers/2.0.2/leaflet.awesome-markers.css&quot;/&gt;\n",
       "    &lt;link rel=&quot;stylesheet&quot; href=&quot;https://cdn.jsdelivr.net/gh/python-visualization/folium/folium/templates/leaflet.awesome.rotate.min.css&quot;/&gt;\n",
       "    \n",
       "            &lt;meta name=&quot;viewport&quot; content=&quot;width=device-width,\n",
       "                initial-scale=1.0, maximum-scale=1.0, user-scalable=no&quot; /&gt;\n",
       "            &lt;style&gt;\n",
       "                #map_2808f7cb3fde9575cbc011d970b7756d {\n",
       "                    position: relative;\n",
       "                    width: 100.0%;\n",
       "                    height: 100.0%;\n",
       "                    left: 0.0%;\n",
       "                    top: 0.0%;\n",
       "                }\n",
       "                .leaflet-container { font-size: 1rem; }\n",
       "            &lt;/style&gt;\n",
       "        \n",
       "&lt;/head&gt;\n",
       "&lt;body&gt;\n",
       "    \n",
       "    \n",
       "            &lt;div class=&quot;folium-map&quot; id=&quot;map_2808f7cb3fde9575cbc011d970b7756d&quot; &gt;&lt;/div&gt;\n",
       "        \n",
       "&lt;/body&gt;\n",
       "&lt;script&gt;\n",
       "    \n",
       "    \n",
       "            var map_2808f7cb3fde9575cbc011d970b7756d = L.map(\n",
       "                &quot;map_2808f7cb3fde9575cbc011d970b7756d&quot;,\n",
       "                {\n",
       "                    center: [34.583440558743305, -76.52855743428576],\n",
       "                    crs: L.CRS.EPSG3857,\n",
       "                    zoom: 12,\n",
       "                    zoomControl: true,\n",
       "                    preferCanvas: false,\n",
       "                }\n",
       "            );\n",
       "\n",
       "            \n",
       "\n",
       "        \n",
       "    \n",
       "            var tile_layer_75f8f32eb5d5f96bfec3bec726ff319b = L.tileLayer(\n",
       "                &quot;https://{s}.tile.openstreetmap.org/{z}/{x}/{y}.png&quot;,\n",
       "                {&quot;attribution&quot;: &quot;Data by \\u0026copy; \\u003ca target=\\&quot;_blank\\&quot; href=\\&quot;http://openstreetmap.org\\&quot;\\u003eOpenStreetMap\\u003c/a\\u003e, under \\u003ca target=\\&quot;_blank\\&quot; href=\\&quot;http://www.openstreetmap.org/copyright\\&quot;\\u003eODbL\\u003c/a\\u003e.&quot;, &quot;detectRetina&quot;: false, &quot;maxNativeZoom&quot;: 18, &quot;maxZoom&quot;: 18, &quot;minZoom&quot;: 0, &quot;noWrap&quot;: false, &quot;opacity&quot;: 1, &quot;subdomains&quot;: &quot;abc&quot;, &quot;tms&quot;: false}\n",
       "            ).addTo(map_2808f7cb3fde9575cbc011d970b7756d);\n",
       "        \n",
       "    \n",
       "\n",
       "        function geo_json_418dff2230fefa835b32f35b8b88a02d_onEachFeature(feature, layer) {\n",
       "            layer.on({\n",
       "            });\n",
       "        };\n",
       "        var geo_json_418dff2230fefa835b32f35b8b88a02d = L.geoJson(null, {\n",
       "                onEachFeature: geo_json_418dff2230fefa835b32f35b8b88a02d_onEachFeature,\n",
       "            \n",
       "        });\n",
       "\n",
       "        function geo_json_418dff2230fefa835b32f35b8b88a02d_add (data) {\n",
       "            geo_json_418dff2230fefa835b32f35b8b88a02d\n",
       "                .addData(data)\n",
       "                .addTo(map_2808f7cb3fde9575cbc011d970b7756d);\n",
       "        }\n",
       "            geo_json_418dff2230fefa835b32f35b8b88a02d_add({&quot;bbox&quot;: [-76.52860975316538, 34.560085010987095, -76.51672469826315, 34.583467603260516], &quot;features&quot;: [{&quot;bbox&quot;: [-76.52860975316538, 34.583439902988516, -76.52855693906636, 34.583467603260516], &quot;geometry&quot;: {&quot;coordinates&quot;: [[[-76.52855743428576, 34.583467603260516], [-76.52855693906636, 34.583440558743305], [-76.52860925858423, 34.583439902988516], [-76.52860975316538, 34.583466948063645], [-76.52855743428576, 34.583467603260516]]], &quot;type&quot;: &quot;Polygon&quot;}, &quot;id&quot;: &quot;0&quot;, &quot;properties&quot;: {&quot;area&quot;: 9.3600000008801, &quot;date&quot;: &quot;2020-10-18&quot;, &quot;distance_to_nearest_road&quot;: 1169.189677902152, &quot;image_url&quot;: &quot;output/m_3407628_ne_18_060_20201018_predictions.tif&quot;, &quot;p&quot;: 0.0014565826330532213, &quot;rectangle_area&quot;: 14.400128172605763, &quot;rectangle_aspect_ratio&quot;: 1.6000081381385416, &quot;year&quot;: 2020}, &quot;type&quot;: &quot;Feature&quot;}, {&quot;bbox&quot;: [-76.52705365909664, 34.57956948055891, -76.52701432197954, 34.57957538032861], &quot;geometry&quot;: {&quot;coordinates&quot;: [[[-76.52705355976539, 34.57956948055891], [-76.52705365909664, 34.579574889464475], [-76.52701442090708, 34.57957538032861], [-76.52701432197954, 34.579569971528], [-76.52705355976539, 34.57956948055891]]], &quot;type&quot;: &quot;Polygon&quot;}, &quot;id&quot;: &quot;1&quot;, &quot;properties&quot;: {&quot;area&quot;: 2.1600000003213062, &quot;date&quot;: &quot;2020-10-18&quot;, &quot;distance_to_nearest_road&quot;: 1617.3322516207497, &quot;image_url&quot;: &quot;output/m_3407628_ne_18_060_20201018_predictions.tif&quot;, &quot;p&quot;: 0.0014705882352941176, &quot;rectangle_area&quot;: 2.159996338472706, &quot;rectangle_aspect_ratio&quot;: 6.000203451846606, &quot;year&quot;: 2020}, &quot;type&quot;: &quot;Feature&quot;}, {&quot;bbox&quot;: [-76.5264926620634, 34.57893809977673, -76.52647948365022, 34.578943672028764], &quot;geometry&quot;: {&quot;coordinates&quot;: [[[-76.52649256290793, 34.57893809977673], [-76.5264926620634, 34.57894350846579], [-76.52647958254076, 34.578943672028764], [-76.52647948365022, 34.57893826322629], [-76.52649256290793, 34.57893809977673]]], &quot;type&quot;: &quot;Polygon&quot;}, &quot;id&quot;: &quot;2&quot;, &quot;properties&quot;: {&quot;area&quot;: 0.7200000001187437, &quot;date&quot;: &quot;2020-10-18&quot;, &quot;distance_to_nearest_road&quot;: 1703.0452069865567, &quot;image_url&quot;: &quot;output/m_3407628_ne_18_060_20201018_predictions.tif&quot;, &quot;p&quot;: 0.000980392156862745, &quot;rectangle_area&quot;: 0.7199926751584265, &quot;rectangle_aspect_ratio&quot;: 2.0001424195619832, &quot;year&quot;: 2020}, &quot;type&quot;: &quot;Feature&quot;}, {&quot;bbox&quot;: [-76.52657143323572, 34.578834349395265, -76.52651684254624, 34.57895940830129], &quot;geometry&quot;: {&quot;coordinates&quot;: [[[-76.5265691585815, 34.578834349395265], [-76.52657143323572, 34.57895875404879], [-76.52651911713261, 34.57895940830129], [-76.52651684254624, 34.57883500309462], [-76.5265691585815, 34.578834349395265]]], &quot;type&quot;: &quot;Polygon&quot;}, &quot;id&quot;: &quot;3&quot;, &quot;properties&quot;: {&quot;area&quot;: 38.15999999948313, &quot;date&quot;: &quot;2020-10-18&quot;, &quot;distance_to_nearest_road&quot;: 1698.2625082824059, &quot;image_url&quot;: &quot;output/m_3407628_ne_18_060_20201018_predictions.tif&quot;, &quot;p&quot;: 0.002165032679738562, &quot;rectangle_area&quot;: 66.23946532989387, &quot;rectangle_aspect_ratio&quot;: 2.8750270208480897, &quot;year&quot;: 2020}, &quot;type&quot;: &quot;Feature&quot;}, {&quot;bbox&quot;: [-76.52728544888454, 34.57471908623598, -76.52727227110154, 34.574724658885046], &quot;geometry&quot;: {&quot;coordinates&quot;: [[[-76.52728534943124, 34.57471908623598], [-76.52728544888454, 34.57472449470343], [-76.52727237003795, 34.574724658885046], [-76.52727227110154, 34.57471924953057], [-76.52728534943124, 34.57471908623598]]], &quot;type&quot;: &quot;Polygon&quot;}, &quot;id&quot;: &quot;4&quot;, &quot;properties&quot;: {&quot;area&quot;: 0.7199999995599501, &quot;date&quot;: &quot;2020-10-18&quot;, &quot;distance_to_nearest_road&quot;: 2105.1202923770775, &quot;image_url&quot;: &quot;output/m_3407628_ne_18_060_20201018_predictions.tif&quot;, &quot;p&quot;: 0.0008714596949891067, &quot;rectangle_area&quot;: 0.720007324366597, &quot;rectangle_aspect_ratio&quot;: 2.0002238101182206, &quot;year&quot;: 2020}, &quot;type&quot;: &quot;Feature&quot;}, {&quot;bbox&quot;: [-76.5275539695932, 34.5739853645475, -76.52753356158165, 34.574028881231385], &quot;geometry&quot;: {&quot;coordinates&quot;: [[[-76.52755317856574, 34.5739853645475], [-76.5275539695932, 34.57402863630845], [-76.5275343524619, 34.574028881231385], [-76.52753356158165, 34.57398560968847], [-76.52755317856574, 34.5739853645475]]], &quot;type&quot;: &quot;Polygon&quot;}, &quot;id&quot;: &quot;5&quot;, &quot;properties&quot;: {&quot;area&quot;: 6.839999999678694, &quot;date&quot;: &quot;2020-10-18&quot;, &quot;distance_to_nearest_road&quot;: 2170.2274627391403, &quot;image_url&quot;: &quot;output/m_3407628_ne_18_060_20201018_predictions.tif&quot;, &quot;p&quot;: 0.0018627450980392157, &quot;rectangle_area&quot;: 8.639860839899647, &quot;rectangle_aspect_ratio&quot;: 2.666766133425788, &quot;year&quot;: 2020}, &quot;type&quot;: &quot;Feature&quot;}, {&quot;bbox&quot;: [-76.527385841065, 34.573765644593095, -76.52737256515394, 34.573776626169675], &quot;geometry&quot;: {&quot;coordinates&quot;: [[[-76.52738564306556, 34.573765644593095], [-76.527385841065, 34.573776462531235], [-76.5273727623575, 34.573776626169675], [-76.52737256515394, 34.5737658080014], [-76.52738564306556, 34.573765644593095]]], &quot;type&quot;: &quot;Polygon&quot;}, &quot;id&quot;: &quot;6&quot;, &quot;properties&quot;: {&quot;area&quot;: 1.079999999916181, &quot;date&quot;: &quot;2020-10-18&quot;, &quot;distance_to_nearest_road&quot;: 2201.6216490531474, &quot;image_url&quot;: &quot;output/m_3407628_ne_18_060_20201018_predictions.tif&quot;, &quot;p&quot;: 0.0007352941176470588, &quot;rectangle_area&quot;: 1.440029296649155, &quot;rectangle_aspect_ratio&quot;: 1.0000610378047199, &quot;year&quot;: 2020}, &quot;type&quot;: &quot;Feature&quot;}, {&quot;bbox&quot;: [-76.51677105607013, 34.562617802327, -76.51672469826315, 34.5626508250545], &quot;geometry&quot;: {&quot;coordinates&quot;: [[[-76.51677046685079, 34.562617802327], [-76.51677105607013, 34.56265025592039], [-76.51672528747469, 34.5626508250545], [-76.51672469826315, 34.562618370910215], [-76.51677046685079, 34.562617802327]]], &quot;type&quot;: &quot;Polygon&quot;}, &quot;id&quot;: &quot;7&quot;, &quot;properties&quot;: {&quot;area&quot;: 10.800000000523868, &quot;date&quot;: &quot;2020-10-18&quot;, &quot;distance_to_nearest_road&quot;: 3718.2492841074077, &quot;image_url&quot;: &quot;output/m_3407628_ne_18_060_20201018_predictions.tif&quot;, &quot;p&quot;: 0.001838235294117647, &quot;rectangle_area&quot;: 15.120208741994585, &quot;rectangle_aspect_ratio&quot;: 1.1666807952491416, &quot;year&quot;: 2020}, &quot;type&quot;: &quot;Feature&quot;}, {&quot;bbox&quot;: [-76.51688093042448, 34.56256774109466, -76.51686111881645, 34.56257880269304], &quot;geometry&quot;: {&quot;coordinates&quot;: [[[-76.51688073387052, 34.56256774109466], [-76.51688093042448, 34.56257855899371], [-76.51686131523086, 34.56257880269304], [-76.51686111881645, 34.562567985012315], [-76.51688073387052, 34.56256774109466]]], &quot;type&quot;: &quot;Polygon&quot;}, &quot;id&quot;: &quot;8&quot;, &quot;properties&quot;: {&quot;area&quot;: 2.159999999483116, &quot;date&quot;: &quot;2020-10-18&quot;, &quot;distance_to_nearest_road&quot;: 3720.8621684169602, &quot;image_url&quot;: &quot;output/m_3407628_ne_18_060_20201018_predictions.tif&quot;, &quot;p&quot;: 0.002352941176470588, &quot;rectangle_area&quot;: 2.159999999229325, &quot;rectangle_aspect_ratio&quot;: 1.5000508641016144, &quot;year&quot;: 2020}, &quot;type&quot;: &quot;Feature&quot;}, {&quot;bbox&quot;: [-76.51697890683405, 34.562566522567785, -76.51697227045436, 34.5625720128705], &quot;geometry&quot;: {&quot;coordinates&quot;: [[[-76.51697880849224, 34.562566522567785], [-76.51697890683405, 34.56257193107607], [-76.51697236800362, 34.5625720128705], [-76.51697227045436, 34.56256660402215], [-76.51697880849224, 34.562566522567785]]], &quot;type&quot;: &quot;Polygon&quot;}, &quot;id&quot;: &quot;9&quot;, &quot;properties&quot;: {&quot;area&quot;: 0.35999999976251273, &quot;date&quot;: &quot;2020-10-18&quot;, &quot;distance_to_nearest_road&quot;: 3717.528729709697, &quot;image_url&quot;: &quot;output/m_3407628_ne_18_060_20201018_predictions.tif&quot;, &quot;p&quot;: 0.00065359477124183, &quot;rectangle_area&quot;: 0.35998901213402745, &quot;rectangle_aspect_ratio&quot;: 1.0001627786690415, &quot;year&quot;: 2020}, &quot;type&quot;: &quot;Feature&quot;}, {&quot;bbox&quot;: [-76.51686795161471, 34.56251922311853, -76.51680792822953, 34.562584861377466], &quot;geometry&quot;: {&quot;coordinates&quot;: [[[-76.51686677310457, 34.56251922311853], [-76.51686795161471, 34.56258413030338], [-76.51680910669394, 34.562584861377466], [-76.51680792822953, 34.56251995419092], [-76.51686677310457, 34.56251922311853]]], &quot;type&quot;: &quot;Polygon&quot;}, &quot;id&quot;: &quot;10&quot;, &quot;properties&quot;: {&quot;area&quot;: 22.320000000363216, &quot;date&quot;: &quot;2020-10-18&quot;, &quot;distance_to_nearest_road&quot;: 3720.839079818039, &quot;image_url&quot;: &quot;output/m_3407628_ne_18_060_20201018_predictions.tif&quot;, &quot;p&quot;: 0.002091503267973856, &quot;rectangle_area&quot;: 38.879956057071695, &quot;rectangle_aspect_ratio&quot;: 1.3333257982608695, &quot;year&quot;: 2020}, &quot;type&quot;: &quot;Feature&quot;}, {&quot;bbox&quot;: [-76.52335641288833, 34.560085010987095, -76.52327062842431, 34.56012934314464], &quot;geometry&quot;: {&quot;coordinates&quot;: [[[-76.52335562391802, 34.560085010987095], [-76.52335641288833, 34.560128282701676], [-76.52327141735063, 34.56012934314464], [-76.52327062842431, 34.5600860714284], [-76.52335562391802, 34.560085010987095]]], &quot;type&quot;: &quot;Polygon&quot;}, &quot;id&quot;: &quot;11&quot;, &quot;properties&quot;: {&quot;area&quot;: 24.840000000202565, &quot;date&quot;: &quot;2020-10-18&quot;, &quot;distance_to_nearest_road&quot;: 3756.951976101507, &quot;image_url&quot;: &quot;output/m_3407628_ne_18_060_20201018_predictions.tif&quot;, &quot;p&quot;: 0.002147525676937442, &quot;rectangle_area&quot;: 37.44030761688948, &quot;rectangle_aspect_ratio&quot;: 1.6249968211260337, &quot;year&quot;: 2020}, &quot;type&quot;: &quot;Feature&quot;}], &quot;type&quot;: &quot;FeatureCollection&quot;});\n",
       "\n",
       "        \n",
       "&lt;/script&gt;\n",
       "&lt;/html&gt;\" style=\"position:absolute;width:100%;height:100%;left:0;top:0;border:none !important;\" allowfullscreen webkitallowfullscreen mozallowfullscreen></iframe></div></div>"
      ],
      "text/plain": [
       "<folium.folium.Map at 0x7f4bac548790>"
      ]
     },
     "execution_count": 27,
     "metadata": {},
     "output_type": "execute_result"
    }
   ],
   "source": [
    "m"
   ]
  },
  {
   "cell_type": "code",
   "execution_count": null,
   "metadata": {},
   "outputs": [],
   "source": []
  }
 ],
 "metadata": {
  "kernelspec": {
   "display_name": "cafo-pytorch",
   "language": "python",
   "name": "python3"
  },
  "language_info": {
   "codemirror_mode": {
    "name": "ipython",
    "version": 3
   },
   "file_extension": ".py",
   "mimetype": "text/x-python",
   "name": "python",
   "nbconvert_exporter": "python",
   "pygments_lexer": "ipython3",
   "version": "3.10.13"
  }
 },
 "nbformat": 4,
 "nbformat_minor": 2
}
