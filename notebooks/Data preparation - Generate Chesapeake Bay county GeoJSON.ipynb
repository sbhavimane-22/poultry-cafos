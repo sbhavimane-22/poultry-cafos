{
 "cells": [
  {
   "cell_type": "code",
   "execution_count": 1,
   "id": "particular-mistress",
   "metadata": {},
   "outputs": [],
   "source": [
    "# Copyright (c) Microsoft Corporation. All rights reserved\n",
    "# Licensed under the MIT License.\n",
    "import fiona\n",
    "import shapely.geometry\n",
    "import pandas as pd\n",
    "import subprocess"
   ]
  },
  {
   "cell_type": "code",
   "execution_count": 2,
   "id": "commercial-samba",
   "metadata": {},
   "outputs": [
    {
     "name": "stdout",
     "output_type": "stream",
     "text": [
      "--2022-05-11 19:16:34--  https://www2.census.gov/geo/tiger/GENZ2018/shp/cb_2018_us_county_5m.zip\n",
      "Resolving www2.census.gov (www2.census.gov)... 23.1.205.135, 2600:1400:11:18b::208c, 2600:1400:11:199::208c\n",
      "Connecting to www2.census.gov (www2.census.gov)|23.1.205.135|:443... connected.\n",
      "HTTP request sent, awaiting response... 200 OK\n",
      "Length: unspecified [application/zip]\n",
      "Saving to: ‘cb_2018_us_county_5m.zip’\n",
      "\n",
      "cb_2018_us_county_5     [ <=>                ]   2.65M  --.-KB/s    in 0.08s   \n",
      "\n",
      "2022-05-11 19:16:35 (33.9 MB/s) - ‘cb_2018_us_county_5m.zip’ saved [2781997]\n",
      "\n",
      "Archive:  cb_2018_us_county_5m.zip\n",
      "  inflating: cb_2018_us_county_5m.shp.ea.iso.xml  \n",
      "  inflating: cb_2018_us_county_5m.shp.iso.xml  \n",
      "  inflating: cb_2018_us_county_5m.shp  \n",
      "  inflating: cb_2018_us_county_5m.shx  \n",
      "  inflating: cb_2018_us_county_5m.dbf  \n",
      "  inflating: cb_2018_us_county_5m.prj  \n",
      " extracting: cb_2018_us_county_5m.cpg  \n"
     ]
    }
   ],
   "source": [
    "!wget https://www2.census.gov/geo/tiger/GENZ2018/shp/cb_2018_us_county_5m.zip\n",
    "!unzip cb_2018_us_county_5m.zip"
   ]
  },
  {
   "cell_type": "code",
   "execution_count": 2,
   "id": "difficult-coach",
   "metadata": {},
   "outputs": [],
   "source": [
    "# Read the list of county GEOIDs that make up the Chesapeake Bay\n",
    "geoids = set(pd.read_csv(\"../data/chesapeake-bay-county-geoids.csv\", dtype={\"geoids\":\"str\"})[\"geoids\"].values)"
   ]
  },
  {
   "cell_type": "code",
   "execution_count": 3,
   "id": "24518c68",
   "metadata": {},
   "outputs": [
    {
     "name": "stderr",
     "output_type": "stream",
     "text": [
      "/net/scratch/tnief/tmp/ipykernel_1485015/2407365631.py:11: ShapelyDeprecationWarning: The 'type' attribute is deprecated, and will be removed in the future. You can use the 'geom_type' attribute instead.\n",
      "  filtered_gdf['geometry'] = filtered_gdf['geometry'].apply(lambda geom: shapely.geometry.MultiPolygon([geom]) if geom.type == 'Polygon' else geom)\n",
      "/home/tnief/miniconda3/envs/cafo-pytorch/lib/python3.10/site-packages/geopandas/geodataframe.py:1538: SettingWithCopyWarning: \n",
      "A value is trying to be set on a copy of a slice from a DataFrame.\n",
      "Try using .loc[row_indexer,col_indexer] = value instead\n",
      "\n",
      "See the caveats in the documentation: https://pandas.pydata.org/pandas-docs/stable/user_guide/indexing.html#returning-a-view-versus-a-copy\n",
      "  super().__setitem__(key, value)\n"
     ]
    }
   ],
   "source": [
    "import geopandas as gpd\n",
    "import shapely.geometry\n",
    "\n",
    "# Read the Shapefile into a GeoDataFrame\n",
    "gdf = gpd.read_file(\"cb_2018_us_county_5m.shp\")\n",
    "\n",
    "# Filter the GeoDataFrame based on GEOIDs\n",
    "filtered_gdf = gdf[gdf['GEOID'].isin(geoids)]\n",
    "\n",
    "# Convert Polygons to MultiPolygons if needed\n",
    "filtered_gdf['geometry'] = filtered_gdf['geometry'].apply(lambda geom: shapely.geometry.MultiPolygon([geom]) if geom.type == 'Polygon' else geom)\n",
    "\n",
    "# Write the filtered GeoDataFrame to a new GeoJSON file\n",
    "filtered_gdf.to_file(\"../data/chesapeake-bay-counties_epsg4269.geojson\", driver='GeoJSON')"
   ]
  },
  {
   "cell_type": "code",
   "execution_count": 4,
   "id": "dated-edward",
   "metadata": {},
   "outputs": [],
   "source": [
    "# Copy the US counties that are in the Chesapeake Bay into a new GeoJSON file\n",
    "with fiona.open(\"cb_2018_us_county_5m.shp\") as src:\n",
    "    dst_schema = src.schema.copy()\n",
    "    dst_schema[\"geometry\"] = \"MultiPolygon\"\n",
    "    \n",
    "    with fiona.open(\n",
    "        \"../data/chesapeake-bay-counties_epsg4269.geojson\",\n",
    "        mode=\"w\",\n",
    "        driver=\"GeoJSON\",\n",
    "        crs=src.crs,\n",
    "        schema=dst_schema\n",
    "    ) as dst:\n",
    "        for row in src:\n",
    "            if row[\"properties\"][\"GEOID\"] in geoids:\n",
    "                if row[\"geometry\"][\"type\"] == \"Polygon\":\n",
    "                    shape = shapely.geometry.shape(row[\"geometry\"])\n",
    "                    geom = shapely.geometry.mapping(\n",
    "                        shapely.geometry.MultiPolygon(polygons=[shape])\n",
    "                    )\n",
    "                    row[\"geometry\"] = geom\n",
    "                    dst.write(row)\n",
    "                else:\n",
    "                    dst.write(row)"
   ]
  },
  {
   "cell_type": "code",
   "execution_count": 4,
   "id": "hearing-listening",
   "metadata": {},
   "outputs": [],
   "source": [
    "# Convert GeoJSON file to EPSG:4326\n",
    "assert subprocess.call([\n",
    "    \"ogr2ogr\",\n",
    "    \"-t_srs\", \"epsg:4326\",\n",
    "    \"../data/chesapeake-bay-counties_epsg4326.geojson\",\n",
    "    \"../data/chesapeake-bay-counties_epsg4269.geojson\"\n",
    "]) == 0"
   ]
  },
  {
   "cell_type": "code",
   "execution_count": 5,
   "id": "veterinary-wisdom",
   "metadata": {},
   "outputs": [],
   "source": [
    "!rm cb_2018_us_county_5m.*"
   ]
  },
  {
   "cell_type": "code",
   "execution_count": null,
   "id": "90616b09",
   "metadata": {},
   "outputs": [],
   "source": []
  }
 ],
 "metadata": {
  "kernelspec": {
   "display_name": "cafo-pytorch",
   "language": "python",
   "name": "python3"
  },
  "language_info": {
   "codemirror_mode": {
    "name": "ipython",
    "version": 3
   },
   "file_extension": ".py",
   "mimetype": "text/x-python",
   "name": "python",
   "nbconvert_exporter": "python",
   "pygments_lexer": "ipython3",
   "version": "3.10.12"
  }
 },
 "nbformat": 4,
 "nbformat_minor": 5
}
